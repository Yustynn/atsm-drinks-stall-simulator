{
 "cells": [
  {
   "cell_type": "code",
   "execution_count": 262,
   "metadata": {},
   "outputs": [],
   "source": [
    "from collections import deque\n",
    "import logging\n",
    "\n",
    "from numpy import exp, inf, log\n",
    "from numpy.random import rand\n",
    "import numpy as np"
   ]
  },
  {
   "cell_type": "markdown",
   "metadata": {},
   "source": [
    "## Logging Config"
   ]
  },
  {
   "cell_type": "code",
   "execution_count": 263,
   "metadata": {},
   "outputs": [],
   "source": [
    "logging.basicConfig(level=logging.DEBUG)\n",
    "logger = logging.getLogger()\n",
    "logger.setLevel(logging.INFO)"
   ]
  },
  {
   "cell_type": "markdown",
   "metadata": {},
   "source": [
    "## Random Variable Helpers"
   ]
  },
  {
   "cell_type": "code",
   "execution_count": 264,
   "metadata": {},
   "outputs": [],
   "source": [
    "def gen_exp_rv(ld):\n",
    "    return -1 / ld * log(1 - rand()) # using inverse CDF of exp RVs\n",
    "\n",
    "def gen_exp_rv_hourly_rate(hours):\n",
    "    return gen_exp_rv(hours) * 60 * 60"
   ]
  },
  {
   "cell_type": "markdown",
   "metadata": {},
   "source": [
    "## Classes"
   ]
  },
  {
   "cell_type": "markdown",
   "metadata": {},
   "source": [
    "### Stall\n",
    "Handles queue and departure of customers"
   ]
  },
  {
   "cell_type": "code",
   "execution_count": 265,
   "metadata": {},
   "outputs": [],
   "source": [
    "class Stall:\n",
    "    def __init__(self, simulator, mu):\n",
    "        self.mu = mu\n",
    "        self.simulator = simulator\n",
    "        self.queue = deque([])\n",
    "        self._departure_times = deque([])\n",
    "        \n",
    "    def add_customer(self, customer):\n",
    "        self.queue.append(customer)\n",
    "        \n",
    "        if not self._departure_times:\n",
    "            next_departure_time = gen_exp_rv(self.mu) + self.simulator.time\n",
    "        else:\n",
    "            next_departure_time = gen_exp_rv(self.mu) + self._departure_times[-1]\n",
    "            \n",
    "        self._departure_times.append(next_departure_time)\n",
    "        \n",
    "    def serve_customer(self):\n",
    "        if self.queue:\n",
    "            self.queue.popleft()\n",
    "            self._departure_times.popleft()\n",
    "        else:\n",
    "            raise IndexError('Queue is empty')\n",
    "            \n",
    "    @property\n",
    "    def next_departure_time(self):\n",
    "        if not self._departure_times:\n",
    "            return inf\n",
    "        return self._departure_times[0]"
   ]
  },
  {
   "cell_type": "markdown",
   "metadata": {},
   "source": [
    "### Customer and Customer Generator\n",
    "Handles arrival of customers"
   ]
  },
  {
   "cell_type": "code",
   "execution_count": 266,
   "metadata": {},
   "outputs": [],
   "source": [
    "class Customer:\n",
    "    def __init__(self, arrival_time):\n",
    "        self.arrival_time = arrival_time\n",
    "\n",
    "# handles arrival of customers \n",
    "class CustomerGenerator:\n",
    "    def __init__(self, simulator, ld):\n",
    "        self.simulator = simulator\n",
    "        self.ld = ld\n",
    "        self._next_arrival_time = -1\n",
    "        \n",
    "    def generate_customer(self):\n",
    "        return Customer(self.next_arrival_time)\n",
    "        \n",
    "    @property\n",
    "    def next_arrival_time(self):\n",
    "        if self.simulator.time >= self._next_arrival_time:\n",
    "            next_arrival_time = gen_exp_rv(self.ld) + self.simulator.time\n",
    "            self._next_arrival_time = next_arrival_time\n",
    "            \n",
    "        return self._next_arrival_time"
   ]
  },
  {
   "cell_type": "markdown",
   "metadata": {},
   "source": [
    "### Tracker\n",
    "Handles cycle tracking, and pretty printing"
   ]
  },
  {
   "cell_type": "code",
   "execution_count": 267,
   "metadata": {},
   "outputs": [],
   "source": [
    "class Tracker:\n",
    "    def __init__(self):\n",
    "        self.info = {}\n",
    "        \n",
    "    def track(self, queue_length, time):\n",
    "        if queue_length not in self.info:\n",
    "            self.info[queue_length] = []\n",
    "            \n",
    "        self.info[queue_length].append(time)\n",
    "        \n",
    "    def __str__(self):\n",
    "        res = []\n",
    "        for queue_length in sorted(self.info.keys()):\n",
    "            vals = self.info[queue_length]\n",
    "            \n",
    "            num_cycles = len(vals) - 1\n",
    "            \n",
    "            if num_cycles == 0:\n",
    "                continue\n",
    "                \n",
    "            span = vals[-1] - vals[0]\n",
    "            mean_cycle_length = span / num_cycles\n",
    "            \n",
    "            res.append(\n",
    "                f'Queue Length {queue_length}. {num_cycles} Cycles. Mean Cycle Length: {mean_cycle_length:.2f}'\n",
    "            )\n",
    "            \n",
    "        return '\\n'.join(res)"
   ]
  },
  {
   "cell_type": "markdown",
   "metadata": {},
   "source": [
    "### Simulator\n",
    "Orchestrator"
   ]
  },
  {
   "cell_type": "code",
   "execution_count": 268,
   "metadata": {},
   "outputs": [],
   "source": [
    "class Simulator:\n",
    "    def __init__(self, mu, ld, maxtime=9999999):\n",
    "        self.customer_generator = CustomerGenerator(self, ld)\n",
    "        self.stall = Stall(self, mu)\n",
    "        self.maxtime = maxtime\n",
    "        self.tracker = Tracker()\n",
    "        self.time = 0\n",
    "        \n",
    "    def update_time(self, time):\n",
    "        self.time = time\n",
    "        \n",
    "    def track(self):\n",
    "        self.tracker.track(\n",
    "            len(self.stall.queue),\n",
    "            self.time\n",
    "        )\n",
    "    \n",
    "    def iterate(self):\n",
    "        def handle_arrival():\n",
    "            customer = self.customer_generator.generate_customer()\n",
    "            self.stall.add_customer(customer)\n",
    "            \n",
    "        def handle_departure():\n",
    "            self.stall.serve_customer()\n",
    "            \n",
    "        next_arrival_time, next_departure_time = self.customer_generator.next_arrival_time, self.stall.next_departure_time\n",
    "        is_arrival_first = next_arrival_time < next_departure_time\n",
    "        \n",
    "        if is_arrival_first:\n",
    "            handle_arrival()\n",
    "            self.update_time(next_arrival_time)\n",
    "            \n",
    "            logger.debug(f'Handled arrival at {self.time:.1f}')\n",
    "        else:\n",
    "            handle_departure()\n",
    "            self.update_time(next_departure_time)\n",
    "            \n",
    "            logger.debug(f'Handled departure at {self.time:.1f}')\n",
    "            \n",
    "        self.track()\n",
    "            \n",
    "        \n",
    "            \n",
    "    def run(self):\n",
    "        while self.time <= self.maxtime:\n",
    "            self.iterate()\n",
    "            \n"
   ]
  },
  {
   "cell_type": "code",
   "execution_count": 273,
   "metadata": {},
   "outputs": [
    {
     "name": "stderr",
     "output_type": "stream",
     "text": [
      "IOPub data rate exceeded.\n",
      "The notebook server will temporarily stop sending output\n",
      "to the client in order to avoid crashing it.\n",
      "To change this limit, set the config variable\n",
      "`--NotebookApp.iopub_data_rate_limit`.\n",
      "\n",
      "Current values:\n",
      "NotebookApp.iopub_data_rate_limit=1000000.0 (bytes/sec)\n",
      "NotebookApp.rate_limit_window=3.0 (secs)\n",
      "\n"
     ]
    }
   ],
   "source": [
    "mu = 30 # seconds\n",
    "ld = 40 # seconds\n",
    "s = Simulator(mu, ld, 10000)\n",
    "s.run()\n",
    "print(s.tracker)"
   ]
  },
  {
   "cell_type": "code",
   "execution_count": 179,
   "metadata": {},
   "outputs": [],
   "source": [
    "logging.getLogger().setLevel(2)"
   ]
  },
  {
   "cell_type": "markdown",
   "metadata": {},
   "source": [
    "Assuming the new customer's first wish is to get food from stall $s$\n",
    "\n",
    "Let Q_i be the queue length of stall $i$\n",
    "\n",
    "Let $c \\in [0, 1]$, where $c$ is a parameter of the simulation determining the willingness of a random customer to queue.\n",
    "\n",
    "\\begin{align*}\n",
    "\\text{Queue joined} = \\begin{cases} \n",
    "      \\text{s} & \\text{if }U(0, 1) \\leq c^{Q_s}\\\\\n",
    "      \\min \\limits_{Q_{s'} \\in S}  s'  & \\text{o.w.}\\\\\n",
    "   \\end{cases}\n",
    "\\end{align*}"
   ]
  },
  {
   "cell_type": "code",
   "execution_count": 44,
   "metadata": {},
   "outputs": [
    {
     "name": "stderr",
     "output_type": "stream",
     "text": [
      "INFO:root:lol\n"
     ]
    }
   ],
   "source": []
  },
  {
   "cell_type": "code",
   "execution_count": null,
   "metadata": {},
   "outputs": [],
   "source": []
  }
 ],
 "metadata": {
  "kernelspec": {
   "display_name": "Python 3",
   "language": "python",
   "name": "python3"
  },
  "language_info": {
   "codemirror_mode": {
    "name": "ipython",
    "version": 3
   },
   "file_extension": ".py",
   "mimetype": "text/x-python",
   "name": "python",
   "nbconvert_exporter": "python",
   "pygments_lexer": "ipython3",
   "version": "3.6.8"
  }
 },
 "nbformat": 4,
 "nbformat_minor": 2
}
