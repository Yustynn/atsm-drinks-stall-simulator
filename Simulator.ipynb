{
 "cells": [
  {
   "cell_type": "code",
   "execution_count": 1,
   "metadata": {},
   "outputs": [],
   "source": [
    "from collections import deque\n",
    "import logging\n",
    "\n",
    "from matplotlib import rc\n",
    "from numpy import exp, inf, log\n",
    "from numpy.random import rand\n",
    "import numpy as np\n",
    "import matplotlib.pyplot as plt"
   ]
  },
  {
   "cell_type": "markdown",
   "metadata": {},
   "source": [
    "## Config"
   ]
  },
  {
   "cell_type": "code",
   "execution_count": 2,
   "metadata": {},
   "outputs": [],
   "source": [
    "# logging\n",
    "logging.basicConfig(level=logging.DEBUG)\n",
    "logger = logging.getLogger()\n",
    "logger.setLevel(logging.INFO)\n",
    "\n",
    "# matplotlib\n",
    "plt.rc('text', usetex=True)"
   ]
  },
  {
   "cell_type": "markdown",
   "metadata": {},
   "source": [
    "## Parameters"
   ]
  },
  {
   "cell_type": "code",
   "execution_count": 3,
   "metadata": {},
   "outputs": [],
   "source": [
    "MAXTIME = 5000\n",
    "DEFAULT_LAMBDA = 1\n",
    "DEFAULT_MU = 2\n",
    "DEFAULT_C = 1"
   ]
  },
  {
   "cell_type": "markdown",
   "metadata": {},
   "source": [
    "## Random Variable Helpers"
   ]
  },
  {
   "cell_type": "code",
   "execution_count": 4,
   "metadata": {},
   "outputs": [],
   "source": [
    "def gen_exp_rv(ld):\n",
    "    return -1 / ld * log(1 - rand()) # using inverse CDF of exp RVs"
   ]
  },
  {
   "cell_type": "markdown",
   "metadata": {},
   "source": [
    "## Classes"
   ]
  },
  {
   "cell_type": "markdown",
   "metadata": {},
   "source": [
    "### Stall\n",
    "Handles queue and departure of customers\n",
    "\n",
    "Including whether or not customer joins, according to this formula\n",
    "\n",
    "\n",
    "Let $c \\in [0, 1]$, where $c$ is a parameter of the simulation determining the willingness of a random customer to queue.\n",
    "\n",
    "Let q be the queue length\n",
    "\n",
    "\\begin{align*}\n",
    "\\text{Queue joined} = \\begin{cases} \n",
    "      \\text{Joined} & \\text{if }U(0, 1) \\leq c^{q}\\\\\n",
    "      \\text{Not joined} & \\text{o.w.}\\\\\n",
    "   \\end{cases}\n",
    "\\end{align*}"
   ]
  },
  {
   "cell_type": "code",
   "execution_count": 5,
   "metadata": {},
   "outputs": [],
   "source": [
    "class Stall:\n",
    "    def __init__(self, simulator, c, mu):\n",
    "        self.c = c\n",
    "        self.mu = mu\n",
    "        self.simulator = simulator\n",
    "        self.queue = deque([])\n",
    "        self._departure_times = deque([])\n",
    "        \n",
    "    def add_customer(self, customer):\n",
    "        def gen_departure_time():\n",
    "            if not self._departure_times:\n",
    "                return gen_exp_rv(self.mu) + self.simulator.time\n",
    "            else:\n",
    "                return gen_exp_rv(self.mu) + max(\n",
    "                    self._departure_times[-1],\n",
    "                    self.simulator.time\n",
    "                )\n",
    "                \n",
    "        def is_customer_join():\n",
    "            return rand() <= self.c**len(self.queue)\n",
    "\n",
    "        if is_customer_join():\n",
    "            self.queue.append(customer)\n",
    "            departure_time = gen_departure_time()\n",
    "            self._departure_times.append(departure_time)\n",
    "        \n",
    "    def serve_customer(self):\n",
    "        if self.queue:\n",
    "            self.queue.popleft()\n",
    "            self._departure_times.popleft()\n",
    "        else:\n",
    "            raise IndexError('Queue is empty')\n",
    "            \n",
    "    @property\n",
    "    def next_departure_time(self):\n",
    "        if not self._departure_times:\n",
    "            return inf\n",
    "        return self._departure_times[0]"
   ]
  },
  {
   "cell_type": "markdown",
   "metadata": {},
   "source": [
    "### Customer and Customer Generator\n",
    "Handles arrival of customers"
   ]
  },
  {
   "cell_type": "code",
   "execution_count": 6,
   "metadata": {},
   "outputs": [],
   "source": [
    "class Customer:\n",
    "    def __init__(self, arrival_time):\n",
    "        self.arrival_time = arrival_time\n",
    "\n",
    "# handles arrival of customers \n",
    "class CustomerGenerator:\n",
    "    def __init__(self, simulator, ld):\n",
    "        self.simulator = simulator\n",
    "        self.ld = ld\n",
    "        self._next_arrival_time = -1\n",
    "        \n",
    "    def generate_customer(self):\n",
    "        return Customer(self.next_arrival_time)\n",
    "        \n",
    "    @property\n",
    "    def next_arrival_time(self):\n",
    "        if self.simulator.time >= self._next_arrival_time:\n",
    "            next_arrival_time = gen_exp_rv(self.ld) + self.simulator.time\n",
    "            self._next_arrival_time = next_arrival_time\n",
    "            \n",
    "        return self._next_arrival_time"
   ]
  },
  {
   "cell_type": "markdown",
   "metadata": {},
   "source": [
    "### Tracker\n",
    "Handles cycle tracking, and pretty printing"
   ]
  },
  {
   "cell_type": "code",
   "execution_count": 7,
   "metadata": {},
   "outputs": [],
   "source": [
    "class Tracker:\n",
    "    def __init__(self):\n",
    "        self.data = {}\n",
    "        \n",
    "    def track(self, queue_length, time):\n",
    "        if queue_length not in self.data:\n",
    "            self.data[queue_length] = []\n",
    "            \n",
    "        self.data[queue_length].append(time)\n",
    "        \n",
    "    # this has the data transformed into cycle length times, rather than absolute times\n",
    "    @property\n",
    "    def final_data(self):\n",
    "        data = {}\n",
    "        \n",
    "        for queue_length in sorted(self.data.keys()):\n",
    "            vals = self.data[queue_length]\n",
    "            if len(vals) < 2:\n",
    "                continue\n",
    "                \n",
    "            vals_final = []\n",
    "            for i in range(len(vals) - 1):\n",
    "                curr, nxt = vals[i], vals[i+1]\n",
    "                vals_final.append(nxt - curr)\n",
    "                \n",
    "            data[queue_length] = vals_final\n",
    "            \n",
    "        return data\n",
    "        \n",
    "    def __str__(self):\n",
    "        res = []\n",
    "        for queue_length in sorted(self.data.keys()):\n",
    "            vals = self.data[queue_length]\n",
    "            \n",
    "            num_cycles = len(vals) - 1\n",
    "            \n",
    "            if num_cycles == 0:\n",
    "                continue\n",
    "                \n",
    "            span = vals[-1] - vals[0]\n",
    "            mean_cycle_length = span / num_cycles\n",
    "            \n",
    "            res.append(\n",
    "                f'Queue Length {queue_length}. {num_cycles} Cycles. Mean Cycle Length: {mean_cycle_length:.2f}'\n",
    "            )\n",
    "            \n",
    "        return '\\n'.join(res)"
   ]
  },
  {
   "cell_type": "markdown",
   "metadata": {},
   "source": [
    "### Simulator\n",
    "Orchestrator"
   ]
  },
  {
   "cell_type": "code",
   "execution_count": 8,
   "metadata": {},
   "outputs": [],
   "source": [
    "class Simulator:\n",
    "    def __init__(self, c, mu, ld, maxtime=9999999):\n",
    "        self.customer_generator = CustomerGenerator(self, ld)\n",
    "        self.stall = Stall(self, c, mu)\n",
    "        self.maxtime = maxtime\n",
    "        self.tracker = Tracker()\n",
    "        self.time = 0\n",
    "        \n",
    "    def update_time(self, time):\n",
    "        self.time = time\n",
    "        \n",
    "    def track(self):\n",
    "        self.tracker.track(\n",
    "            len(self.stall.queue),\n",
    "            self.time\n",
    "        )\n",
    "    \n",
    "    def iterate(self):\n",
    "        def handle_arrival():\n",
    "            customer = self.customer_generator.generate_customer()\n",
    "            self.stall.add_customer(customer)\n",
    "            \n",
    "        def handle_departure():\n",
    "            self.stall.serve_customer()\n",
    "            \n",
    "        next_arrival_time, next_departure_time = self.customer_generator.next_arrival_time, self.stall.next_departure_time\n",
    "        is_arrival_first = next_arrival_time < next_departure_time\n",
    "        \n",
    "        if is_arrival_first:\n",
    "            self.update_time(next_arrival_time)\n",
    "            handle_arrival()\n",
    "            \n",
    "            logger.debug(f'Handled arrival at {self.time:.3f}')\n",
    "        else:\n",
    "            handle_departure()\n",
    "            self.update_time(next_departure_time)\n",
    "            \n",
    "            logger.debug(f'Handled departure at {self.time:.3f}')\n",
    "            \n",
    "        self.track()\n",
    "        \n",
    "    # useful for debugging\n",
    "    def iterate_n(self, n):\n",
    "        for _ in range(n):\n",
    "            self.iterate()\n",
    "            \n",
    "    def run(self):\n",
    "        while self.time <= self.maxtime:\n",
    "            self.iterate()"
   ]
  },
  {
   "cell_type": "markdown",
   "metadata": {},
   "source": [
    "## Program Proper"
   ]
  },
  {
   "cell_type": "markdown",
   "metadata": {},
   "source": [
    "### Collect num cycles, mean cycle length by increasing mu"
   ]
  },
  {
   "cell_type": "code",
   "execution_count": 9,
   "metadata": {},
   "outputs": [],
   "source": [
    "cycle_avgs_mu = {}\n",
    "num_cycles_mu = {}\n",
    "\n",
    "for mu in np.arange(2, 10.05, 0.05):\n",
    "    s = Simulator(DEFAULT_C, mu, DEFAULT_LAMBDA, MAXTIME)\n",
    "    s.run()\n",
    "    \n",
    "    cycle_avgs_mu[mu] = np.mean(s.tracker.final_data[0])\n",
    "    num_cycles_mu[mu] = len(s.tracker.final_data[0])"
   ]
  },
  {
   "cell_type": "markdown",
   "metadata": {},
   "source": [
    "### Collect num cycles, mean cycle length by increasing c"
   ]
  },
  {
   "cell_type": "code",
   "execution_count": 10,
   "metadata": {},
   "outputs": [],
   "source": [
    "cycle_avgs_c = {}\n",
    "num_cycles_c = {}\n",
    "\n",
    "for c in np.arange(0, 1.01, 0.01):\n",
    "    s = Simulator(c, DEFAULT_MU, DEFAULT_LAMBDA, MAXTIME)\n",
    "    s.run()\n",
    "    \n",
    "    cycle_avgs_c[c] = np.mean(s.tracker.final_data[0])\n",
    "    num_cycles_c[c] = len(s.tracker.final_data[0])"
   ]
  },
  {
   "cell_type": "markdown",
   "metadata": {},
   "source": [
    "### Get plot variables"
   ]
  },
  {
   "cell_type": "code",
   "execution_count": 11,
   "metadata": {},
   "outputs": [],
   "source": [
    "x_c = list(cycle_avgs_c.keys())\n",
    "x_mu = list(cycle_avgs_mu.keys())\n",
    "\n",
    "y_c = list(cycle_avgs_c.values())\n",
    "y_mu = list(cycle_avgs_mu.values())\n",
    "\n",
    "y_cycles_c = list(num_cycles_c.values())\n",
    "y_cycles_mu = list(num_cycles_mu.values())"
   ]
  },
  {
   "cell_type": "markdown",
   "metadata": {},
   "source": [
    "### Plot average cycle length (average interval size) versus increasing $c$, $\\mu$"
   ]
  },
  {
   "cell_type": "code",
   "execution_count": 12,
   "metadata": {},
   "outputs": [
    {
     "data": {
      "text/plain": [
       "Text(0.5, 1.0, 'Comparison of increasing $\\\\mu$ vs increasing $c$, with $\\\\lambda = 1$')"
      ]
     },
     "execution_count": 12,
     "metadata": {},
     "output_type": "execute_result"
    },
    {
     "data": {
      "image/png": "[encoded data removed]",
      "text/plain": [
       "<Figure size 720x504 with 2 Axes>"
      ]
     },
     "metadata": {},
     "output_type": "display_data"
    }
   ],
   "source": [
    "fig, ax1 = plt.subplots(figsize=(10,7))\n",
    "ax2 = ax1.twiny()\n",
    "\n",
    "ax1.plot(\n",
    "    x_c,\n",
    "    y_c,\n",
    "    color='blue',\n",
    "    label='Increasing $c \\in [0, 1]$, maintaining $\\mu = 2$'\n",
    ")\n",
    "ax2.plot(\n",
    "    x_mu,\n",
    "    y_mu,\n",
    "    color='orange',\n",
    "    label=r'Increasing $\\mu \\in [2, 10]$, maintaining $c = 1$'\n",
    ")\n",
    "\n",
    "fig.legend()\n",
    "\n",
    "ax1.set_xlabel(r'$c$')\n",
    "ax2.set_xlabel(r'$\\mu$')\n",
    "\n",
    "ax1.set_ylabel('Average cycle lengths')\n",
    "ax1.set_title(r'Comparison of increasing $\\mu$ vs increasing $c$, with $\\lambda = 1$')"
   ]
  },
  {
   "cell_type": "markdown",
   "metadata": {
    "toc-hr-collapsed": false
   },
   "source": [
    "### Plot number of cycles versus increasing $c$, $\\mu$"
   ]
  },
  {
   "cell_type": "code",
   "execution_count": 13,
   "metadata": {},
   "outputs": [
    {
     "data": {
      "text/plain": [
       "Text(0.5, 1.0, 'Comparison of increasing $\\\\mu$ vs increasing $c$, with $\\\\lambda = 1$')"
      ]
     },
     "execution_count": 13,
     "metadata": {},
     "output_type": "execute_result"
    },
    {
     "data": {
      "image/png": "[encoded data removed]",
      "text/plain": [
       "<Figure size 720x504 with 2 Axes>"
      ]
     },
     "metadata": {},
     "output_type": "display_data"
    }
   ],
   "source": [
    "fig, ax1 = plt.subplots(figsize=(10,7))\n",
    "ax2 = ax1.twiny()\n",
    "\n",
    "ax1.plot(\n",
    "    x_c,\n",
    "    y_cycles_c,\n",
    "    color='blue',\n",
    "    label='Increasing $c \\in [0, 1]$, maintaining $\\mu = 2$'\n",
    ")\n",
    "\n",
    "ax2.plot(\n",
    "    x_mu,\n",
    "    y_cycles_mu,\n",
    "    color='orange',\n",
    "    label=r'Increasing $\\mu \\in [2, 10]$, maintaining $c = 1$'\n",
    ")\n",
    "\n",
    "fig.legend()\n",
    "\n",
    "ax1.set_xlabel(r'$c$')\n",
    "ax2.set_xlabel(r'$\\mu$')\n",
    "\n",
    "ax1.set_ylabel('Number of cycles')\n",
    "ax1.set_title(r'Comparison of increasing $\\mu$ vs increasing $c$, with $\\lambda = 1$')"
   ]
  }
 ],
 "metadata": {
  "kernelspec": {
   "display_name": "Python 3",
   "language": "python",
   "name": "python3"
  },
  "language_info": {
   "codemirror_mode": {
    "name": "ipython",
    "version": 3
   },
   "file_extension": ".py",
   "mimetype": "text/x-python",
   "name": "python",
   "nbconvert_exporter": "python",
   "pygments_lexer": "ipython3",
   "version": "3.6.8"
  }
 },
 "nbformat": 4,
 "nbformat_minor": 2
}
